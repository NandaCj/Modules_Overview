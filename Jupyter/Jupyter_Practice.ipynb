{
 "cells": [
  {
   "cell_type": "markdown",
   "metadata": {},
   "source": [
    "# Headings\n",
    "- Select Cell Type as Markdown and use '#' for Heading with single space after that\n",
    "- '##' or '###' is for smaller size"
   ]
  },
  {
   "cell_type": "markdown",
   "metadata": {},
   "source": [
    "# Hyperlinks\n",
    "- for hyper links use format \"[hyperlink Text](Actual Link)\" \n",
    "- Example : \n",
    "    [Economic Times](https://economictimes.indiatimes.com/)"
   ]
  },
  {
   "cell_type": "markdown",
   "metadata": {},
   "source": [
    "# Use suffix '!' for any command to be run on command prompt\n",
    "### Example dir command for windows ! dir"
   ]
  },
  {
   "cell_type": "code",
   "execution_count": 7,
   "metadata": {},
   "outputs": [
    {
     "name": "stdout",
     "output_type": "stream",
     "text": [
      " Volume in drive C is OS\n",
      " Volume Serial Number is 9C8C-B8B0\n",
      "\n",
      " Directory of C:\\Users\\nandpara\\PycharmProjects\\Modules_Overview1\\Jupyter\n",
      "\n",
      "12/04/2018  04:23 PM    <DIR>          .\n",
      "12/04/2018  04:23 PM    <DIR>          ..\n",
      "12/04/2018  04:15 PM    <DIR>          .ipynb_checkpoints\n",
      "12/04/2018  04:23 PM             2,019 Jupyter_Practice.ipynb\n",
      "               1 File(s)          2,019 bytes\n",
      "               3 Dir(s)  310,115,708,928 bytes free\n"
     ]
    }
   ],
   "source": [
    "! dir"
   ]
  },
  {
   "cell_type": "code",
   "execution_count": 8,
   "metadata": {},
   "outputs": [],
   "source": [
    "import pandas as pd"
   ]
  },
  {
   "cell_type": "code",
   "execution_count": null,
   "metadata": {},
   "outputs": [],
   "source": [
    "pd.read_csv"
   ]
  },
  {
   "cell_type": "code",
   "execution_count": null,
   "metadata": {},
   "outputs": [],
   "source": []
  }
 ],
 "metadata": {
  "kernelspec": {
   "display_name": "Python 3",
   "language": "python",
   "name": "python3"
  },
  "language_info": {
   "codemirror_mode": {
    "name": "ipython",
    "version": 3
   },
   "file_extension": ".py",
   "mimetype": "text/x-python",
   "name": "python",
   "nbconvert_exporter": "python",
   "pygments_lexer": "ipython3",
   "version": "3.6.5"
  }
 },
 "nbformat": 4,
 "nbformat_minor": 2
}

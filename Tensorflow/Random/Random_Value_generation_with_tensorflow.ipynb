{
 "cells": [
  {
   "cell_type": "markdown",
   "metadata": {},
   "source": [
    "# Random Value generation with tensorflow is explained here\n",
    "[ReferenceDocs](https://www.tensorflow.org/api_guides/python/constant_op)"
   ]
  },
  {
   "cell_type": "code",
   "execution_count": 3,
   "metadata": {},
   "outputs": [],
   "source": [
    "import tensorflow as tf"
   ]
  },
  {
   "cell_type": "code",
   "execution_count": 26,
   "metadata": {},
   "outputs": [
    {
     "name": "stdout",
     "output_type": "stream",
     "text": [
      "[[ 0.49718082  0.67853975 -6.4662304 ]\n",
      " [-4.698241   -0.29813325 -1.7903368 ]\n",
      " [-1.0691097   2.0692015   1.1159183 ]]\n",
      "<class 'tensorflow.python.framework.ops.Tensor'>\n",
      "[[5 6 5]\n",
      " [8 4 3]\n",
      " [7 4 3]]\n",
      "<class 'tensorflow.python.framework.ops.Tensor'>\n"
     ]
    },
    {
     "name": "stderr",
     "output_type": "stream",
     "text": [
      "C:\\Users\\nandpara\\AppData\\Roaming\\Python\\Python36\\site-packages\\tensorflow\\python\\client\\session.py:1662: UserWarning: An interactive session is already active. This can cause out-of-memory errors in some cases. You must explicitly call `InteractiveSession.close()` to release resources held by the other session(s).\n",
      "  warnings.warn('An interactive session is already active. This can '\n"
     ]
    }
   ],
   "source": [
    "sess = tf.InteractiveSession()\n",
    "\n",
    "X = tf.random_normal([3,3], mean=1, stddev=3, dtype=tf.float32)\n",
    "print(X.eval() * 1)\n",
    "print(type(X))\n",
    "\n",
    "\n",
    "X = tf.random_uniform((3, 3), minval=1, maxval=10, dtype=tf.int64)\n",
    "print(X.eval())\n",
    "print(type(X))\n",
    "\n",
    "sess.close()"
   ]
  },
  {
   "cell_type": "code",
   "execution_count": null,
   "metadata": {},
   "outputs": [],
   "source": []
  }
 ],
 "metadata": {
  "kernelspec": {
   "display_name": "Python 3",
   "language": "python",
   "name": "python3"
  },
  "language_info": {
   "codemirror_mode": {
    "name": "ipython",
    "version": 3
   },
   "file_extension": ".py",
   "mimetype": "text/x-python",
   "name": "python",
   "nbconvert_exporter": "python",
   "pygments_lexer": "ipython3",
   "version": "3.6.5"
  }
 },
 "nbformat": 4,
 "nbformat_minor": 2
}
